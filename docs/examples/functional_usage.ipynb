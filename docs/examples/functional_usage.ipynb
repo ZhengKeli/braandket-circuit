{
 "cells": [
  {
   "cell_type": "markdown",
   "source": [
    "# Functional Usage"
   ],
   "metadata": {
    "collapsed": false
   },
   "id": "59f4e1fdfde647d4"
  },
  {
   "cell_type": "code",
   "execution_count": 1,
   "id": "b6dca166ef24e1b8",
   "metadata": {
    "collapsed": true,
    "ExecuteTime": {
     "end_time": "2023-09-19T07:17:26.155762Z",
     "start_time": "2023-09-19T07:17:20.403019700Z"
    }
   },
   "outputs": [],
   "source": [
    "from braandket_circuit import CNOT, H, M, QOperation, Sequential, allocate_qubits, remap"
   ]
  },
  {
   "cell_type": "markdown",
   "source": [
    "As we knew, a circuit can be defined using `Sequential`, `remap` and other operations."
   ],
   "metadata": {
    "collapsed": false
   },
   "id": "cd37d8a979b74973"
  },
  {
   "cell_type": "code",
   "execution_count": 2,
   "outputs": [],
   "source": [
    "circuit = Sequential([\n",
    "    remap(H, 0),\n",
    "    remap(CNOT, 0, 1),\n",
    "    M\n",
    "])"
   ],
   "metadata": {
    "collapsed": false,
    "ExecuteTime": {
     "end_time": "2023-09-19T07:17:26.171881700Z",
     "start_time": "2023-09-19T07:17:26.159566200Z"
    }
   },
   "id": "initial_id"
  },
  {
   "cell_type": "markdown",
   "source": [
    "However, if you feel annoying pointing out target qubit using `remap` and indices. You must try \"functional\" usage.\n",
    "\n",
    "Code below performs the whole circuit directly, without `Sequential` and `remap`.\n",
    "\n",
    "Sometimes, such way is more convenient and readable."
   ],
   "metadata": {
    "collapsed": false
   },
   "id": "65e3c6c1af4381c4"
  },
  {
   "cell_type": "code",
   "execution_count": 3,
   "outputs": [
    {
     "name": "stdout",
     "output_type": "stream",
     "text": [
      "result.value=(1, 1)\n",
      "result.prob=array(0.5)\n"
     ]
    }
   ],
   "source": [
    "q0, q1 = allocate_qubits(2)\n",
    "\n",
    "H(q0)\n",
    "CNOT(q0, q1)\n",
    "result = M(q0, q1)\n",
    "\n",
    "print(f\"{result.value=}\")\n",
    "print(f\"{result.prob=}\")"
   ],
   "metadata": {
    "collapsed": false,
    "ExecuteTime": {
     "end_time": "2023-09-19T07:17:26.220716700Z",
     "start_time": "2023-09-19T07:17:26.171881700Z"
    }
   },
   "id": "897e3551aca61084"
  },
  {
   "cell_type": "markdown",
   "source": [
    "You may want to wrap the circuit part into a function, distinguishing it from other parts.\n",
    "\n",
    "Then you'll find that the circuit can be defined as a function (That's why it is called \"functional\")."
   ],
   "metadata": {
    "collapsed": false
   },
   "id": "7f6bf1742adf7e8b"
  },
  {
   "cell_type": "code",
   "execution_count": 4,
   "outputs": [
    {
     "name": "stdout",
     "output_type": "stream",
     "text": [
      "result.value=(0, 0)\n",
      "result.prob=array(0.5)\n"
     ]
    }
   ],
   "source": [
    "# noinspection PyRedeclaration\n",
    "def circuit(q0, q1):\n",
    "    H(q0)\n",
    "    CNOT(q0, q1)\n",
    "    return M(q0, q1)\n",
    "\n",
    "\n",
    "q0, q1 = allocate_qubits(2)\n",
    "result = circuit(q0, q1)\n",
    "\n",
    "print(f\"{result.value=}\")\n",
    "print(f\"{result.prob=}\")"
   ],
   "metadata": {
    "collapsed": false,
    "ExecuteTime": {
     "end_time": "2023-09-19T07:17:26.223303Z",
     "start_time": "2023-09-19T07:17:26.203404600Z"
    }
   },
   "id": "c660ef448326ca9"
  },
  {
   "cell_type": "markdown",
   "source": [
    "Furthermore, you can define your circuit as a custom `QOpeartion`. Just subclass `QOperation` and override `__call__` method."
   ],
   "metadata": {
    "collapsed": false
   },
   "id": "65712bc9d61e7bc8"
  },
  {
   "cell_type": "code",
   "execution_count": 5,
   "outputs": [
    {
     "name": "stdout",
     "output_type": "stream",
     "text": [
      "result.value=(0, 0)\n",
      "result.prob=array(0.5)\n"
     ]
    }
   ],
   "source": [
    "class MyCircuit(QOperation):\n",
    "    def __call__(self, q0, q1):\n",
    "        H(q0)\n",
    "        CNOT(q0, q1)\n",
    "        return M(q0, q1)\n",
    "\n",
    "\n",
    "q0, q1 = allocate_qubits(2)\n",
    "\n",
    "circuit = MyCircuit()\n",
    "result = circuit(q0, q1)\n",
    "\n",
    "print(f\"{result.value=}\")\n",
    "print(f\"{result.prob=}\")"
   ],
   "metadata": {
    "collapsed": false,
    "ExecuteTime": {
     "end_time": "2023-09-19T07:17:26.225141900Z",
     "start_time": "2023-09-19T07:17:26.212845900Z"
    }
   },
   "id": "e69aa979ecf845af"
  },
  {
   "cell_type": "markdown",
   "source": [
    "The key differences of subclassing `QOperation` from writing a plain function is:\n",
    "\n",
    "* The instance of your custom `QOperation` can have your custom attributes and methods.\n",
    "* Instances of `QOperation` can be recorded for visualization, compilation, optimization, etc. \n",
    "* (Advanced) You can define a runtime-dependent implementation for your subclass via the \"apply impl registry\" mechanism."
   ],
   "metadata": {
    "collapsed": false
   },
   "id": "261c68a3d08f4f20"
  }
 ],
 "metadata": {
  "kernelspec": {
   "display_name": "Python 3",
   "language": "python",
   "name": "python3"
  },
  "language_info": {
   "codemirror_mode": {
    "name": "ipython",
    "version": 2
   },
   "file_extension": ".py",
   "mimetype": "text/x-python",
   "name": "python",
   "nbconvert_exporter": "python",
   "pygments_lexer": "ipython2",
   "version": "2.7.6"
  }
 },
 "nbformat": 4,
 "nbformat_minor": 5
}
