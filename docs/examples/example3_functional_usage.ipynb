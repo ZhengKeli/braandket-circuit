{
 "cells": [
  {
   "cell_type": "markdown",
   "source": [
    "# Functional Usage"
   ],
   "metadata": {
    "collapsed": false
   },
   "id": "59f4e1fdfde647d4"
  },
  {
   "cell_type": "code",
   "execution_count": 1,
   "id": "b6dca166ef24e1b8",
   "metadata": {
    "collapsed": true,
    "ExecuteTime": {
     "end_time": "2024-01-25T08:32:08.969397400Z",
     "start_time": "2024-01-25T08:32:05.218431700Z"
    }
   },
   "outputs": [],
   "source": [
    "from braandket_circuit import CNOT, H, M, QOperation, Sequential, allocate_qubits"
   ]
  },
  {
   "cell_type": "markdown",
   "source": [
    "As we already know, a circuit can be defined using `Sequential`, `.on()` and some operations."
   ],
   "metadata": {
    "collapsed": false
   },
   "id": "cd37d8a979b74973"
  },
  {
   "cell_type": "code",
   "execution_count": 2,
   "outputs": [],
   "source": [
    "circuit = Sequential([\n",
    "    H.on(0),\n",
    "    CNOT.on(0, 1),\n",
    "    M\n",
    "])\n"
   ],
   "metadata": {
    "collapsed": false,
    "ExecuteTime": {
     "end_time": "2024-01-25T08:32:08.978549Z",
     "start_time": "2024-01-25T08:32:08.971392Z"
    }
   },
   "id": "initial_id"
  },
  {
   "cell_type": "markdown",
   "source": [
    "If you feel annoying pointing out target qubit using `.on()` and indices, do try functional usage!\n",
    "\n",
    "In functional usage, we can directly call `QOperation` instances like functions with qubits as arguments. In most cases, functional usage is more convenient and readable.\n",
    "\n",
    "Code below performs the whole circuit directly, without `Sequential` and `.on()`. As we can see, calling `M` returns a `MeasurementResult` instance.\n"
   ],
   "metadata": {
    "collapsed": false
   },
   "id": "65e3c6c1af4381c4"
  },
  {
   "cell_type": "code",
   "execution_count": 3,
   "outputs": [
    {
     "name": "stdout",
     "output_type": "stream",
     "text": [
      "result.value=array([0, 0], dtype=int64)\n",
      "result.prob=array(0.5)\n"
     ]
    }
   ],
   "source": [
    "q0, q1 = allocate_qubits(2)\n",
    "\n",
    "H(q0)\n",
    "CNOT(q0, q1)\n",
    "result = M(q0, q1)\n",
    "\n",
    "print(f\"{result.value=}\")\n",
    "print(f\"{result.prob=}\")"
   ],
   "metadata": {
    "collapsed": false,
    "ExecuteTime": {
     "end_time": "2024-01-25T08:32:08.988157200Z",
     "start_time": "2024-01-25T08:32:08.974550700Z"
    }
   },
   "id": "897e3551aca61084"
  },
  {
   "cell_type": "markdown",
   "source": [
    "You may want to wrap the circuit up, distinguishing it from other parts. Then you'll find that the circuit can be defined as a function (That's why it is called \"functional\")."
   ],
   "metadata": {
    "collapsed": false
   },
   "id": "7f6bf1742adf7e8b"
  },
  {
   "cell_type": "code",
   "execution_count": 4,
   "outputs": [
    {
     "name": "stdout",
     "output_type": "stream",
     "text": [
      "result.value=array([1, 1], dtype=int64)\n",
      "result.prob=array(0.5)\n"
     ]
    }
   ],
   "source": [
    "# noinspection PyRedeclaration\n",
    "def circuit(q0, q1):\n",
    "    H(q0)\n",
    "    CNOT(q0, q1)\n",
    "    return M(q0, q1)\n",
    "\n",
    "\n",
    "q0, q1 = allocate_qubits(2)\n",
    "result = circuit(q0, q1)\n",
    "\n",
    "print(f\"{result.value=}\")\n",
    "print(f\"{result.prob=}\")"
   ],
   "metadata": {
    "collapsed": false,
    "ExecuteTime": {
     "end_time": "2024-01-25T08:32:08.990164400Z",
     "start_time": "2024-01-25T08:32:08.982381500Z"
    }
   },
   "id": "c660ef448326ca9"
  },
  {
   "cell_type": "markdown",
   "source": [
    "Furthermore, you can define your circuit as a subclass of `QOpeartion` by overriding the `__call__` method."
   ],
   "metadata": {
    "collapsed": false
   },
   "id": "65712bc9d61e7bc8"
  },
  {
   "cell_type": "code",
   "execution_count": 5,
   "outputs": [
    {
     "name": "stdout",
     "output_type": "stream",
     "text": [
      "result.value=array([1, 1], dtype=int64)\n",
      "result.prob=array(0.5)\n"
     ]
    }
   ],
   "source": [
    "class MyCircuit(QOperation):\n",
    "    def __call__(self, q0, q1):\n",
    "        H(q0)\n",
    "        CNOT(q0, q1)\n",
    "        return M(q0, q1)\n",
    "\n",
    "\n",
    "q0, q1 = allocate_qubits(2)\n",
    "\n",
    "circuit = MyCircuit()\n",
    "result = circuit(q0, q1)\n",
    "\n",
    "print(f\"{result.value=}\")\n",
    "print(f\"{result.prob=}\")"
   ],
   "metadata": {
    "collapsed": false,
    "ExecuteTime": {
     "end_time": "2024-01-25T08:32:09.030868900Z",
     "start_time": "2024-01-25T08:32:08.990164400Z"
    }
   },
   "id": "e69aa979ecf845af"
  },
  {
   "cell_type": "markdown",
   "source": [
    "Defining circuit by subclassing is generally a more complicated way than writing a plain function.\n",
    "\n",
    "Here are the key differences between them:\n",
    "\n",
    "* Instances `QOperation` can have commonly used methods and properties, like `.on()` and `name`.\n",
    "* Instances of `QOperation` can be recorded for visualization, compilation, optimization, etc. \n",
    "* You can define additional methods and properties in the subclass of `QOperation`.\n",
    "* (Advanced) You can define a runtime-dependent implementation for a subclass of `QOperation` via the \"apply impl registry\" mechanism."
   ],
   "metadata": {
    "collapsed": false
   },
   "id": "261c68a3d08f4f20"
  }
 ],
 "metadata": {
  "kernelspec": {
   "display_name": "Python 3",
   "language": "python",
   "name": "python3"
  },
  "language_info": {
   "codemirror_mode": {
    "name": "ipython",
    "version": 2
   },
   "file_extension": ".py",
   "mimetype": "text/x-python",
   "name": "python",
   "nbconvert_exporter": "python",
   "pygments_lexer": "ipython2",
   "version": "2.7.6"
  }
 },
 "nbformat": 4,
 "nbformat_minor": 5
}
