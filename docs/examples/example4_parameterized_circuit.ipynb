{
 "cells": [
  {
   "cell_type": "markdown",
   "source": [
    "# Parameterized Circuit"
   ],
   "metadata": {
    "collapsed": false
   },
   "id": "d44a6561b8406d49"
  },
  {
   "cell_type": "markdown",
   "source": [
    "Note: Running this notebook requires these additional dependencies: `tensorflow`, `matplotlib`"
   ],
   "metadata": {
    "collapsed": false
   },
   "id": "4d4be378ae0dd3c"
  },
  {
   "cell_type": "code",
   "execution_count": 1,
   "id": "138c4fc25f044ef1",
   "metadata": {
    "collapsed": true,
    "ExecuteTime": {
     "end_time": "2023-11-14T07:58:21.408303200Z",
     "start_time": "2023-11-14T07:58:18.818166400Z"
    }
   },
   "outputs": [],
   "source": [
    "import tensorflow as tf\n",
    "from matplotlib import pyplot as plt\n",
    "\n",
    "from braandket import ArrayLike, tensorflow_backend\n",
    "from braandket_circuit import BnkRuntime, DM, H, QOperation, QParticle, Ry, Rz, allocate_qubit"
   ]
  },
  {
   "cell_type": "markdown",
   "source": [
    "We can define a parameterized circuit as below. Theoretically `Uzyz` have the ability to fit any single qubit unitary gate."
   ],
   "metadata": {
    "collapsed": false
   },
   "id": "208449dda38f9b88"
  },
  {
   "cell_type": "code",
   "execution_count": 2,
   "outputs": [],
   "source": [
    "class Uzyz(QOperation):\n",
    "    def __init__(self, thetas: ArrayLike):\n",
    "        super().__init__()\n",
    "        self.thetas = thetas\n",
    "\n",
    "    def __call__(self, qubit: QParticle):\n",
    "        Rz(self.thetas[0])(qubit)\n",
    "        Ry(self.thetas[1])(qubit)\n",
    "        Rz(self.thetas[2])(qubit)"
   ],
   "metadata": {
    "collapsed": false,
    "ExecuteTime": {
     "end_time": "2023-11-14T07:58:21.418646600Z",
     "start_time": "2023-11-14T07:58:21.413360700Z"
    }
   },
   "id": "initial_id"
  },
  {
   "cell_type": "markdown",
   "source": [
    "Suppose we want to fit Hadamard gate with `Uzyz`. \n",
    "\n",
    "We can define a `circuit`, in which apply an `H` gate and then an `Uzyz` and then measure a qubit.\n",
    "\n",
    "If `Uzyz` fit `H` gate very well, the measure result probability will be `0` as the initial state.\n",
    "\n",
    "Here we use `DM(0)` instead of `M` as the measurement, to \"designate\" the measurement result (of cause, this can be done only on a simulator). That way we can conveniently get the probability of getting `0`."
   ],
   "metadata": {
    "collapsed": false
   },
   "id": "a85f131f02366145"
  },
  {
   "cell_type": "code",
   "execution_count": 3,
   "outputs": [],
   "source": [
    "def circuit(thetas: ArrayLike, qubit: QParticle):\n",
    "    H(qubit)\n",
    "    Uzyz(thetas)(qubit)\n",
    "    return DM(0)(qubit)"
   ],
   "metadata": {
    "collapsed": false,
    "ExecuteTime": {
     "end_time": "2023-11-14T07:58:21.418646600Z",
     "start_time": "2023-11-14T07:58:21.413360700Z"
    }
   },
   "id": "6687c3a94b88beeb"
  },
  {
   "cell_type": "markdown",
   "source": [
    "Let's try running the `circuit` with arbitrarily filled `thetas`."
   ],
   "metadata": {
    "collapsed": false
   },
   "id": "11bf5baa8cfc8acb"
  },
  {
   "cell_type": "code",
   "execution_count": 4,
   "outputs": [
    {
     "name": "stdout",
     "output_type": "stream",
     "text": [
      "result.value=0\n",
      "result.prob=array(0.40116159)\n"
     ]
    }
   ],
   "source": [
    "qubit = allocate_qubit()\n",
    "result = circuit([0.1, 0.2, 0.3], qubit)\n",
    "\n",
    "print(f\"{result.value=}\")\n",
    "print(f\"{result.prob=}\")"
   ],
   "metadata": {
    "collapsed": false,
    "ExecuteTime": {
     "end_time": "2023-11-14T07:58:21.425355800Z",
     "start_time": "2023-11-14T07:58:21.418646600Z"
    }
   },
   "id": "e2bf2909a0f36e87"
  },
  {
   "cell_type": "markdown",
   "source": [
    "Then we want to optimize the `thetas` so that the `Uzyz` fits `H` better. Here we use gradient descent as the optimization method, and we obtain the gradient with the help of TensorFlow.\n",
    "\n",
    "By default, this framework use numpy to perform the computation. To use tensorflow, we need to run the circuit within a \"tensorflow-backend runtime\". Correspondingly, the arguments (`thetas`) and returned values (`result.value` and `result.prob`) should all be `tf.Tensor`.\n",
    "\n",
    "In this case, we use `BnkRuntime(tensorflow_backend)` as the runtime. We can use `with` to conveniently switch the runtime. Note that the calling of `allocate_qubit` also needs to be wrapped inside because it involves the initialization of quantum state."
   ],
   "metadata": {
    "collapsed": false
   },
   "id": "789770141f5c85bc"
  },
  {
   "cell_type": "code",
   "execution_count": 5,
   "outputs": [
    {
     "name": "stdout",
     "output_type": "stream",
     "text": [
      "result.value=<tf.Tensor: shape=(), dtype=int32, numpy=0>\n",
      "result.prob=<tf.Tensor: shape=(), dtype=float64, numpy=0.4999999999999999>\n"
     ]
    }
   ],
   "source": [
    "thetas = tf.Variable(tf.zeros(3, dtype=tf.float32))\n",
    "\n",
    "with BnkRuntime(tensorflow_backend):\n",
    "    qubit = allocate_qubit()\n",
    "    result = circuit(thetas, qubit)\n",
    "\n",
    "print(f\"{result.value=}\")\n",
    "print(f\"{result.prob=}\")"
   ],
   "metadata": {
    "collapsed": false,
    "ExecuteTime": {
     "end_time": "2023-11-14T07:58:21.516795600Z",
     "start_time": "2023-11-14T07:58:21.425355800Z"
    }
   },
   "id": "a231cf97f46b967f"
  },
  {
   "cell_type": "markdown",
   "source": [
    "To obtain the gradient with the help of TensorFlow, we use the `tf.GradientTape` (the officially recommended way)."
   ],
   "metadata": {
    "collapsed": false
   },
   "id": "f52d81d9c52dcb60"
  },
  {
   "cell_type": "code",
   "execution_count": 6,
   "outputs": [
    {
     "name": "stdout",
     "output_type": "stream",
     "text": [
      "WARNING:tensorflow:You are casting an input of type complex128 to an incompatible dtype float32.  This will discard the imaginary part and may not be what you intended.\n",
      "WARNING:tensorflow:You are casting an input of type complex64 to an incompatible dtype float32.  This will discard the imaginary part and may not be what you intended.\n",
      "WARNING:tensorflow:You are casting an input of type complex64 to an incompatible dtype float32.  This will discard the imaginary part and may not be what you intended.\n",
      "gradients=<tf.Tensor: shape=(3,), dtype=float32, numpy=array([ 0. , -0.5,  0. ], dtype=float32)>\n"
     ]
    }
   ],
   "source": [
    "thetas = tf.Variable(tf.zeros(3, dtype=tf.float32))\n",
    "\n",
    "with BnkRuntime(tensorflow_backend), tf.GradientTape() as tape:\n",
    "    qubit = allocate_qubit()\n",
    "    result = circuit(thetas, qubit)\n",
    "\n",
    "gradients = tape.gradient(result.prob, thetas)\n",
    "print(f\"{gradients=}\")"
   ],
   "metadata": {
    "collapsed": false,
    "ExecuteTime": {
     "end_time": "2023-11-14T07:58:21.572435500Z",
     "start_time": "2023-11-14T07:58:21.516795600Z"
    }
   },
   "id": "c42485aceb501f71"
  },
  {
   "cell_type": "markdown",
   "source": [
    "We can use many utils in tensorflow to do the optimization. \n",
    "\n",
    "In this case, we use:\n",
    "* `tf.keras.optimizers.Adam` as the optimizer.\n",
    "* `tf.keras.losses.binary_crossentropy` as the loss function.\n",
    "* `tf.function` to optimize the forward and backward process."
   ],
   "metadata": {
    "collapsed": false
   },
   "id": "9fd9db26ccb91898"
  },
  {
   "cell_type": "code",
   "execution_count": 7,
   "outputs": [
    {
     "name": "stdout",
     "output_type": "stream",
     "text": [
      "WARNING:tensorflow:You are casting an input of type complex128 to an incompatible dtype float32.  This will discard the imaginary part and may not be what you intended.\n",
      "WARNING:tensorflow:You are casting an input of type complex64 to an incompatible dtype float32.  This will discard the imaginary part and may not be what you intended.\n",
      "WARNING:tensorflow:You are casting an input of type complex64 to an incompatible dtype float32.  This will discard the imaginary part and may not be what you intended.\n",
      "WARNING:tensorflow:You are casting an input of type complex128 to an incompatible dtype float32.  This will discard the imaginary part and may not be what you intended.\n",
      "WARNING:tensorflow:You are casting an input of type complex64 to an incompatible dtype float32.  This will discard the imaginary part and may not be what you intended.\n",
      "WARNING:tensorflow:You are casting an input of type complex64 to an incompatible dtype float32.  This will discard the imaginary part and may not be what you intended.\n",
      "i=0, prob=0.50, loss=0.6931\n",
      "i=1, prob=0.51, loss=0.6733\n",
      "i=2, prob=0.52, loss=0.6539\n",
      "i=3, prob=0.53, loss=0.6350\n",
      "i=4, prob=0.54, loss=0.6164\n",
      "i=5, prob=0.55, loss=0.5982\n",
      "i=6, prob=0.56, loss=0.5804\n",
      "i=7, prob=0.57, loss=0.5630\n",
      "i=8, prob=0.58, loss=0.5459\n",
      "i=9, prob=0.59, loss=0.5293\n",
      "i=10, prob=0.60, loss=0.5131\n",
      "i=11, prob=0.61, loss=0.4972\n",
      "i=12, prob=0.62, loss=0.4818\n",
      "i=13, prob=0.63, loss=0.4667\n",
      "i=14, prob=0.64, loss=0.4519\n",
      "i=15, prob=0.65, loss=0.4376\n",
      "i=16, prob=0.65, loss=0.4236\n",
      "i=17, prob=0.66, loss=0.4099\n",
      "i=18, prob=0.67, loss=0.3967\n",
      "i=19, prob=0.68, loss=0.3837\n",
      "i=20, prob=0.69, loss=0.3711\n",
      "i=21, prob=0.70, loss=0.3589\n",
      "i=22, prob=0.71, loss=0.3469\n",
      "i=23, prob=0.72, loss=0.3353\n",
      "i=24, prob=0.72, loss=0.3240\n",
      "i=25, prob=0.73, loss=0.3131\n",
      "i=26, prob=0.74, loss=0.3024\n",
      "i=27, prob=0.75, loss=0.2921\n",
      "i=28, prob=0.75, loss=0.2820\n",
      "i=29, prob=0.76, loss=0.2722\n",
      "i=30, prob=0.77, loss=0.2627\n",
      "i=31, prob=0.78, loss=0.2535\n",
      "i=32, prob=0.78, loss=0.2446\n",
      "i=33, prob=0.79, loss=0.2359\n",
      "i=34, prob=0.80, loss=0.2275\n",
      "i=35, prob=0.80, loss=0.2194\n",
      "i=36, prob=0.81, loss=0.2115\n",
      "i=37, prob=0.82, loss=0.2038\n",
      "i=38, prob=0.82, loss=0.1964\n",
      "i=39, prob=0.83, loss=0.1892\n",
      "i=40, prob=0.83, loss=0.1822\n",
      "i=41, prob=0.84, loss=0.1754\n",
      "i=42, prob=0.84, loss=0.1689\n",
      "i=43, prob=0.85, loss=0.1626\n",
      "i=44, prob=0.86, loss=0.1564\n",
      "i=45, prob=0.86, loss=0.1505\n",
      "i=46, prob=0.87, loss=0.1448\n",
      "i=47, prob=0.87, loss=0.1392\n",
      "i=48, prob=0.87, loss=0.1339\n",
      "i=49, prob=0.88, loss=0.1287\n",
      "i=50, prob=0.88, loss=0.1237\n",
      "i=51, prob=0.89, loss=0.1188\n",
      "i=52, prob=0.89, loss=0.1141\n",
      "i=53, prob=0.90, loss=0.1096\n",
      "i=54, prob=0.90, loss=0.1052\n",
      "i=55, prob=0.90, loss=0.1010\n",
      "i=56, prob=0.91, loss=0.0969\n",
      "i=57, prob=0.91, loss=0.0930\n",
      "i=58, prob=0.91, loss=0.0892\n",
      "i=59, prob=0.92, loss=0.0856\n",
      "i=60, prob=0.92, loss=0.0820\n",
      "i=61, prob=0.92, loss=0.0786\n",
      "i=62, prob=0.93, loss=0.0753\n",
      "i=63, prob=0.93, loss=0.0722\n",
      "i=64, prob=0.93, loss=0.0691\n",
      "i=65, prob=0.94, loss=0.0662\n",
      "i=66, prob=0.94, loss=0.0634\n",
      "i=67, prob=0.94, loss=0.0606\n",
      "i=68, prob=0.94, loss=0.0580\n",
      "i=69, prob=0.95, loss=0.0555\n",
      "i=70, prob=0.95, loss=0.0531\n",
      "i=71, prob=0.95, loss=0.0507\n",
      "i=72, prob=0.95, loss=0.0485\n",
      "i=73, prob=0.95, loss=0.0463\n",
      "i=74, prob=0.96, loss=0.0442\n",
      "i=75, prob=0.96, loss=0.0422\n",
      "i=76, prob=0.96, loss=0.0403\n",
      "i=77, prob=0.96, loss=0.0385\n",
      "i=78, prob=0.96, loss=0.0367\n",
      "i=79, prob=0.97, loss=0.0350\n",
      "i=80, prob=0.97, loss=0.0334\n",
      "i=81, prob=0.97, loss=0.0318\n",
      "i=82, prob=0.97, loss=0.0303\n",
      "i=83, prob=0.97, loss=0.0289\n",
      "i=84, prob=0.97, loss=0.0275\n",
      "i=85, prob=0.97, loss=0.0262\n",
      "i=86, prob=0.98, loss=0.0249\n",
      "i=87, prob=0.98, loss=0.0237\n",
      "i=88, prob=0.98, loss=0.0226\n",
      "i=89, prob=0.98, loss=0.0215\n",
      "i=90, prob=0.98, loss=0.0204\n",
      "i=91, prob=0.98, loss=0.0194\n",
      "i=92, prob=0.98, loss=0.0184\n",
      "i=93, prob=0.98, loss=0.0175\n",
      "i=94, prob=0.98, loss=0.0166\n",
      "i=95, prob=0.98, loss=0.0157\n",
      "i=96, prob=0.99, loss=0.0149\n",
      "i=97, prob=0.99, loss=0.0142\n",
      "i=98, prob=0.99, loss=0.0134\n",
      "i=99, prob=0.99, loss=0.0127\n"
     ]
    },
    {
     "data": {
      "text/plain": "<Figure size 640x480 with 2 Axes>",
      "image/png": "[encoded data removed]"
     },
     "metadata": {},
     "output_type": "display_data"
    }
   ],
   "source": [
    "thetas = tf.Variable(tf.zeros(3, dtype=tf.float32))\n",
    "optimizer = tf.keras.optimizers.Adam(2e-2)\n",
    "\n",
    "\n",
    "@tf.function\n",
    "def forward_and_backward():\n",
    "    with BnkRuntime(tensorflow_backend), tf.GradientTape() as tape:\n",
    "        qubit = allocate_qubit()\n",
    "        result = circuit(thetas, qubit)\n",
    "        loss = tf.keras.losses.binary_crossentropy([1.0], [result.prob])\n",
    "\n",
    "    gradients = tape.gradient(loss, thetas)\n",
    "    optimizer.apply_gradients(zip([gradients], [thetas]))\n",
    "\n",
    "    return result.prob, loss\n",
    "\n",
    "\n",
    "logs_prob = []\n",
    "logs_loss = []\n",
    "for i in range(100):\n",
    "    prob, loss = forward_and_backward()\n",
    "\n",
    "    print(f\"{i=}, prob={float(prob):.2f}, loss={float(loss):.4f}\")\n",
    "    logs_prob.append(float(prob))\n",
    "    logs_loss.append(float(loss))\n",
    "\n",
    "fig, (axes0, axes1) = plt.subplots(2, 1, sharex='all')\n",
    "fig.subplots_adjust(hspace=0.05)\n",
    "axes0.plot(logs_prob)\n",
    "axes0.set_ylabel('prob')\n",
    "axes0.grid('all')\n",
    "axes1.plot(logs_loss)\n",
    "axes1.grid('all')\n",
    "axes1.set_ylabel('loss')\n",
    "axes1.set_xlabel('step')\n",
    "plt.show()"
   ],
   "metadata": {
    "collapsed": false,
    "ExecuteTime": {
     "end_time": "2023-11-14T07:58:24.301284500Z",
     "start_time": "2023-11-14T07:58:21.561842800Z"
    }
   },
   "id": "40e11f3d9211e35e"
  },
  {
   "cell_type": "code",
   "execution_count": 7,
   "outputs": [],
   "source": [],
   "metadata": {
    "collapsed": false,
    "ExecuteTime": {
     "end_time": "2023-11-14T07:58:24.302905Z",
     "start_time": "2023-11-14T07:58:24.301284500Z"
    }
   },
   "id": "a02e182edb19b3d6"
  }
 ],
 "metadata": {
  "kernelspec": {
   "display_name": "Python 3",
   "language": "python",
   "name": "python3"
  },
  "language_info": {
   "codemirror_mode": {
    "name": "ipython",
    "version": 2
   },
   "file_extension": ".py",
   "mimetype": "text/x-python",
   "name": "python",
   "nbconvert_exporter": "python",
   "pygments_lexer": "ipython2",
   "version": "2.7.6"
  }
 },
 "nbformat": 4,
 "nbformat_minor": 5
}
