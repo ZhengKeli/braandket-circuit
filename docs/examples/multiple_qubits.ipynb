{
 "cells": [
  {
   "cell_type": "markdown",
   "source": [
    "# A Circuit with Multiple Qubits"
   ],
   "metadata": {
    "collapsed": false
   },
   "id": "f7f6e61934090d63"
  },
  {
   "cell_type": "code",
   "execution_count": 1,
   "outputs": [],
   "source": [
    "from braandket_circuit import CNOT, H, M, Sequential, allocate_qubits, remap"
   ],
   "metadata": {
    "collapsed": false,
    "ExecuteTime": {
     "end_time": "2023-09-19T06:05:16.133843600Z",
     "start_time": "2023-09-19T06:05:13.649606Z"
    }
   },
   "id": "9fdb245d8b2ff123"
  },
  {
   "cell_type": "markdown",
   "source": [
    "A circuit with two qubits can be defined as below. \n",
    "\n",
    "`H` is the Hadamard gate. `CNOT` is the CNOT (controlled-not) gate. `M` is the measurement (to be clear, projective measurement on computation basics). `Sequential` means that these operations are applied one-by-one as the order in the list.\n",
    "\n",
    "Since a Hadamard gate is a single qubit gate, to define which qubit it should be applied on, we use the `remap` function. Also, we use `remap` to define the control head and target head of `CNOT` (The first index indicates the control qubit, while the second index indicates the target qubit).\n",
    "\n",
    "Notice that there is no `remap` on the `M`, because `M` is designed to be able to be applied on multiple qubits. Writing `M` without `remap` means that we measure all qubits at once.\n",
    "\n",
    "Oh, Wait! We haven't explicitly define the number of qubits of this circuit! That's because we are using `Sequential` which defines only the sequence of operations. It doesn't care the number of qubits. In fact, the number of qubits dependents on how many qubits we are about to feed."
   ],
   "metadata": {
    "collapsed": false
   },
   "id": "3a7c7b46b7cc2274"
  },
  {
   "cell_type": "code",
   "execution_count": 2,
   "outputs": [
    {
     "data": {
      "text/plain": "Sequential([\n\tRemappedByIndices(HadamardGate(), 0),\n\tRemappedByIndices(Controlled(PauliXGate()), 0, 1),\n\tProjectiveMeasurement(),\n])"
     },
     "execution_count": 2,
     "metadata": {},
     "output_type": "execute_result"
    }
   ],
   "source": [
    "circuit = Sequential([\n",
    "    remap(H, 0),\n",
    "    remap(CNOT, 0, 1),\n",
    "    M\n",
    "])\n",
    "\n",
    "circuit"
   ],
   "metadata": {
    "collapsed": false,
    "ExecuteTime": {
     "end_time": "2023-09-19T06:05:16.141866500Z",
     "start_time": "2023-09-19T06:05:16.135843200Z"
    }
   },
   "id": "61e310c337e166b7"
  },
  {
   "cell_type": "markdown",
   "source": [
    "We can prepare multiple qubits at once by call function `allocate_qubits`."
   ],
   "metadata": {
    "collapsed": false
   },
   "id": "7de04e482478dd5"
  },
  {
   "cell_type": "code",
   "execution_count": 3,
   "outputs": [
    {
     "data": {
      "text/plain": "(<BnkParticle name=q_0>, <BnkParticle name=q_1>)"
     },
     "execution_count": 3,
     "metadata": {},
     "output_type": "execute_result"
    }
   ],
   "source": [
    "q0, q1 = allocate_qubits(2, name='q')\n",
    "\n",
    "q0, q1"
   ],
   "metadata": {
    "collapsed": false,
    "ExecuteTime": {
     "end_time": "2023-09-19T06:05:16.148581400Z",
     "start_time": "2023-09-19T06:05:16.142862500Z"
    }
   },
   "id": "52b99f20384bd5f6"
  },
  {
   "cell_type": "markdown",
   "source": [
    "And then we can just call the circuit with multiple qubits and get the result of `M`."
   ],
   "metadata": {
    "collapsed": false
   },
   "id": "32f9c4391b19ff91"
  },
  {
   "cell_type": "code",
   "execution_count": 4,
   "outputs": [
    {
     "name": "stdout",
     "output_type": "stream",
     "text": [
      "result.value=(0, 0)\n",
      "result.prob=array(0.5)\n"
     ]
    }
   ],
   "source": [
    "results = circuit(q0, q1)\n",
    "\n",
    "result = results[-1]\n",
    "print(f\"{result.value=}\")\n",
    "print(f\"{result.prob=}\")"
   ],
   "metadata": {
    "collapsed": false,
    "ExecuteTime": {
     "end_time": "2023-09-19T06:05:16.201358700Z",
     "start_time": "2023-09-19T06:05:16.148581400Z"
    }
   },
   "id": "2919279bb7b707d7"
  },
  {
   "cell_type": "markdown",
   "source": [
    "As we've talked about above, we can actually call the circuit with more than two qubits.\n",
    "\n",
    "(But calling it with less than two qubits leads to an `IndexError`)"
   ],
   "metadata": {
    "collapsed": false
   },
   "id": "7b4271fb8492d23c"
  },
  {
   "cell_type": "code",
   "execution_count": 5,
   "outputs": [
    {
     "name": "stdout",
     "output_type": "stream",
     "text": [
      "result.value=(0, 0, 0)\n",
      "result.prob=array(0.5)\n"
     ]
    }
   ],
   "source": [
    "q0, q1, q2 = allocate_qubits(3, name='q')\n",
    "\n",
    "results = circuit(q0, q1, q2)\n",
    "\n",
    "result = results[-1]\n",
    "print(f\"{result.value=}\")\n",
    "print(f\"{result.prob=}\")"
   ],
   "metadata": {
    "collapsed": false,
    "ExecuteTime": {
     "end_time": "2023-09-19T06:05:16.211625200Z",
     "start_time": "2023-09-19T06:05:16.160620Z"
    }
   },
   "id": "5d20ba8b400fe1c2"
  },
  {
   "cell_type": "markdown",
   "source": [
    "Perform the experiment multiple times. \n",
    "\n",
    "Since the circuit prepares a Bell state. The value of measurement result is either `(0,0)` or `(1,1)`."
   ],
   "metadata": {
    "collapsed": false
   },
   "id": "c26cf9118447da8c"
  },
  {
   "cell_type": "code",
   "execution_count": 6,
   "outputs": [
    {
     "name": "stdout",
     "output_type": "stream",
     "text": [
      "experiment 0:\n",
      "\tresult.value=(1, 1)\n",
      "\tresult.prob=array(0.5)\n",
      "experiment 1:\n",
      "\tresult.value=(0, 0)\n",
      "\tresult.prob=array(0.5)\n",
      "experiment 2:\n",
      "\tresult.value=(0, 0)\n",
      "\tresult.prob=array(0.5)\n",
      "experiment 3:\n",
      "\tresult.value=(0, 0)\n",
      "\tresult.prob=array(0.5)\n",
      "experiment 4:\n",
      "\tresult.value=(1, 1)\n",
      "\tresult.prob=array(0.5)\n",
      "experiment 5:\n",
      "\tresult.value=(0, 0)\n",
      "\tresult.prob=array(0.5)\n",
      "experiment 6:\n",
      "\tresult.value=(1, 1)\n",
      "\tresult.prob=array(0.5)\n",
      "experiment 7:\n",
      "\tresult.value=(1, 1)\n",
      "\tresult.prob=array(0.5)\n",
      "experiment 8:\n",
      "\tresult.value=(0, 0)\n",
      "\tresult.prob=array(0.5)\n",
      "experiment 9:\n",
      "\tresult.value=(0, 0)\n",
      "\tresult.prob=array(0.5)\n"
     ]
    }
   ],
   "source": [
    "for i in range(10):\n",
    "    q0, q1 = allocate_qubits(2, name='q')\n",
    "    results = circuit(q0, q1)\n",
    "\n",
    "    result = results[-1]\n",
    "    print(f\"experiment {i}:\")\n",
    "    print(f\"\\t{result.value=}\")\n",
    "    print(f\"\\t{result.prob=}\")"
   ],
   "metadata": {
    "collapsed": false,
    "ExecuteTime": {
     "end_time": "2023-09-19T06:05:16.212626400Z",
     "start_time": "2023-09-19T06:05:16.167199200Z"
    }
   },
   "id": "initial_id"
  }
 ],
 "metadata": {
  "kernelspec": {
   "display_name": "Python 3",
   "language": "python",
   "name": "python3"
  },
  "language_info": {
   "codemirror_mode": {
    "name": "ipython",
    "version": 2
   },
   "file_extension": ".py",
   "mimetype": "text/x-python",
   "name": "python",
   "nbconvert_exporter": "python",
   "pygments_lexer": "ipython2",
   "version": "2.7.6"
  }
 },
 "nbformat": 4,
 "nbformat_minor": 5
}
